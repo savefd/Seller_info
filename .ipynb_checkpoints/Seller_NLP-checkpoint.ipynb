{
 "cells": [
  {
   "cell_type": "code",
   "execution_count": 2,
   "metadata": {},
   "outputs": [],
   "source": [
    "import pandas as pd\n",
    "import numpy as np\n",
    "import re"
   ]
  },
  {
   "cell_type": "code",
   "execution_count": 2,
   "metadata": {},
   "outputs": [],
   "source": [
    "something = pd.read_excel('YOUR PATH', encoding=\"UTF-8\")\n",
    "wentwrong = something[['Ref_ID', 'Name', 'Message']]"
   ]
  },
  {
   "cell_type": "markdown",
   "metadata": {},
   "source": [
    "## Extract URLs from Messages"
   ]
  },
  {
   "cell_type": "code",
   "execution_count": null,
   "metadata": {},
   "outputs": [],
   "source": [
    "# get URLs column in Pandas DataFrame\n",
    "\n",
    "def geturl(df):\n",
    "    result = df.copy()\n",
    "    urls = []\n",
    "    for text in result['Message']:\n",
    "        try:\n",
    "            tmp = re.findall(r'(https?://\\S+)', text)\n",
    "            if re.findall(r'(https?://\\S+)', text) != []:\n",
    "                urls.append(tmp)\n",
    "            else:\n",
    "                urls.append('-')\n",
    "        except:\n",
    "            urls.append('-')\n",
    "    result['URLs'] = urls\n",
    "    return result"
   ]
  },
  {
   "cell_type": "markdown",
   "metadata": {},
   "source": [
    "## Extract Mobile Phone Numbers from Messages"
   ]
  },
  {
   "cell_type": "code",
   "execution_count": null,
   "metadata": {},
   "outputs": [],
   "source": [
    "# get phone numbers column\n",
    "\n",
    "def getphone_no(df):\n",
    "    result = df.copy()\n",
    "    phonenumber = []\n",
    "    firstpt = r'((09|08|06)[0-9][- ][0-9]{3}[- ][0-9]{4})'\n",
    "    secpt = r'((09|08|06)[- ][0-9]{4}[- ][0-9]{4})'\n",
    "    trdpt = r'((09|08|06)[0-9][- ][0-9]{7})'\n",
    "    for text in result['Message']:\n",
    "        tmp = []\n",
    "        try:\n",
    "            first = re.findall(firstpt, text)\n",
    "            second = re.findall(secpt, text)\n",
    "            third = re.findall(trdpt, text)\n",
    "            comb = first+second+third\n",
    "            tmp = [elem[0] for elem in comb]\n",
    "            phonenumber.append(tmp if tmp != [] else '-')\n",
    "        except:\n",
    "            phonenumber.append('-')\n",
    "    result['Phone_No'] = phonenumber\n",
    "    return result"
   ]
  },
  {
   "cell_type": "markdown",
   "metadata": {},
   "source": [
    "## Extract Account Numbers from Messages"
   ]
  },
  {
   "cell_type": "code",
   "execution_count": null,
   "metadata": {},
   "outputs": [],
   "source": [
    "# get an Account_No column and Extra column that shows a set of numbers that cannot be specified.\n",
    "\n",
    "def getaccount_no(df):\n",
    "    result = df.copy()\n",
    "    account_no = []\n",
    "    extracol = []\n",
    "    firstpt = r'([0][2689][0-9][- ][0-9]{3}[- ][0-9]{3,4})'\n",
    "    secpt = r'([0][2689][- ][0-9]{3,4}[- ][0-9]{4})'\n",
    "    trdpt = r'([0][2689][0-9][- ][0-9]{7})'\n",
    "    for text in result['Message']:\n",
    "        try:\n",
    "            allnum = re.findall(r'([0-9\\-]{10,13})', text)\n",
    "            final = allnum.copy()\n",
    "            tmp = []\n",
    "            index = 0\n",
    "            for num in allnum:\n",
    "                if (re.search(firstpt, num) != None) or (re.search(secpt, num) != None) or (re.search(trdpt, num) != None) or (re.search(r'[0][23457][-][0-9]{7}', num) != None) or (re.search(r'[0][23457][0-9][-][0-9]{6}', num) != None):\n",
    "                    final.remove(num)\n",
    "                elif re.search(r'([0][689][0-9]{8})', num) != None:\n",
    "                    tmp.append(num)\n",
    "                    final.remove(num)\n",
    "                elif re.search(r'([- ]{4,13})', num) != None:\n",
    "                    final.remove(num)\n",
    "            account_no.append(final if final != [] else '-')\n",
    "            extracol.append(tmp if tmp != [] else '-')\n",
    "        except:\n",
    "            account_no.append('-')\n",
    "            extracol.append('-')\n",
    "    result['Account_No'] = account_no\n",
    "    result['Extra'] = extracol\n",
    "    return result\n"
   ]
  },
  {
   "cell_type": "markdown",
   "metadata": {},
   "source": [
    "## Extract Account Names from Messages"
   ]
  },
  {
   "cell_type": "code",
   "execution_count": null,
   "metadata": {},
   "outputs": [],
   "source": [
    "# get an Account_Name column\n",
    "\n",
    "def getname(df):\n",
    "    result = df.copy()\n",
    "    Account_name = []\n",
    "    company_re = r'((บริษัท)|(บจก.)|(บมจ.)|(บจ.))'\n",
    "    name_re = r'((นาย)|(นางสาว)|(เด็กหญิง)|(นาง)|(เด็กชาย)|(น[.]ส[.])|(ด[.]ญ[.])|(ด[.]ช[.]))'\n",
    "    for text in result['Message']:\n",
    "        try:\n",
    "            sentenses = text.split()\n",
    "            index = 0\n",
    "            for i in sentenses:\n",
    "                if re.search(r'(ชื่อบัญชี)', i) != None:\n",
    "                    if len(i) <= len('ชื่อบัญชี')+10:\n",
    "                        if re.search(company_re, sentenses[index+1]) != None:\n",
    "                            if re.search(r'(จำกัด)', sentenses[index+3]) != None:\n",
    "                                if re.search(r'(มหาชน)', sentenses[index+4]) != None:\n",
    "                                    Account_name.append(sentenses[index+1] + ' ' + sentenses[index+2] + ' ' + sentenses[index+3] + sentenses[index+4])\n",
    "                                    break\n",
    "                                else:\n",
    "                                    Account_name.append(sentenses[index+1] + ' ' + sentenses[index+2] + ' ' + sentenses[index+3])\n",
    "                                    break\n",
    "                            elif re.search(r'(จำกัด)', sentenses[index+4]) != None:\n",
    "                                if re.search(r'(มหาชน)', sentenses[index+5]) != None:\n",
    "                                    Account_name.append(sentenses[index+1] + ' ' + sentenses[index+2] + ' ' + sentenses[index+3] +' '+ sentenses[index+4]+sentenses[index+5])\n",
    "                                    break\n",
    "                                else:\n",
    "                                    Account_name.append(sentenses[index+1] + ' ' + sentenses[index+2] + ' ' + sentenses[index+3] + ' ' + sentenses[index+4])        \n",
    "                                    break\n",
    "                            else: \n",
    "                                Account_name.append(sentenses[index+1] + ' ' + sentenses[index+2])\n",
    "                                break\n",
    "                        elif re.search(name_re, sentenses[index+1]) != None:\n",
    "                            Account_name.append(sentenses[index+1] + ' ' + sentenses[index+2])\n",
    "                            break\n",
    "                        else:\n",
    "                            Account_name.append(sentenses[index+1] + ' ' + sentenses[index+2] + ' ' + sentenses[index+3])\n",
    "                            break\n",
    "                    else:\n",
    "                        Account_name.append(i)\n",
    "                        break\n",
    "                else:\n",
    "                    if index+1 != len(sentenses):\n",
    "                        index += 1\n",
    "                    else:\n",
    "                        Account_Name.append('-')\n",
    "        except:\n",
    "            Account_name.append('-')\n",
    "    result['Account_Name'] = Account_name\n",
    "    return result"
   ]
  },
  {
   "cell_type": "markdown",
   "metadata": {},
   "source": [
    "## to see the result"
   ]
  },
  {
   "cell_type": "code",
   "execution_count": 4,
   "metadata": {
    "scrolled": true
   },
   "outputs": [],
   "source": [
    "a = getaccount_no(getphone_no(geturl(getname('SomeDataFrame'))))"
   ]
  },
  {
   "cell_type": "markdown",
   "metadata": {},
   "source": [
    "## Checking the selected rows manually"
   ]
  },
  {
   "cell_type": "code",
   "execution_count": 6,
   "metadata": {},
   "outputs": [],
   "source": [
    "imcolFB['Message'].iloc[6039]"
   ]
  },
  {
   "cell_type": "code",
   "execution_count": null,
   "metadata": {},
   "outputs": [],
   "source": []
  }
 ],
 "metadata": {
  "kernelspec": {
   "display_name": "Python 3",
   "language": "python",
   "name": "python3"
  },
  "language_info": {
   "codemirror_mode": {
    "name": "ipython",
    "version": 3
   },
   "file_extension": ".py",
   "mimetype": "text/x-python",
   "name": "python",
   "nbconvert_exporter": "python",
   "pygments_lexer": "ipython3",
   "version": "3.7.1"
  }
 },
 "nbformat": 4,
 "nbformat_minor": 2
}
